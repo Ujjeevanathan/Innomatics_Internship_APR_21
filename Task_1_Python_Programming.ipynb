{
  "nbformat": 4,
  "nbformat_minor": 0,
  "metadata": {
    "colab": {
      "name": "Task-1-Python-Programming.ipynb",
      "provenance": [],
      "collapsed_sections": []
    },
    "kernelspec": {
      "name": "python3",
      "display_name": "Python 3"
    },
    "language_info": {
      "name": "python"
    }
  },
  "cells": [
    {
      "cell_type": "markdown",
      "metadata": {
        "id": "4fz7EW_LvYaz"
      },
      "source": [
        "1. Print Hello, World!"
      ]
    },
    {
      "cell_type": "code",
      "metadata": {
        "colab": {
          "base_uri": "https://localhost:8080/"
        },
        "id": "ikanvwkMu5Kt",
        "outputId": "aae18d05-88d5-4591-f007-532d90df9764"
      },
      "source": [
        "print(\"Hello, World!\")"
      ],
      "execution_count": 1,
      "outputs": [
        {
          "output_type": "stream",
          "text": [
            "Hello, World!\n"
          ],
          "name": "stdout"
        }
      ]
    },
    {
      "cell_type": "markdown",
      "metadata": {
        "id": "NoTlB3uGvc_3"
      },
      "source": [
        "2. Python If-Else"
      ]
    },
    {
      "cell_type": "code",
      "metadata": {
        "colab": {
          "base_uri": "https://localhost:8080/"
        },
        "id": "gJ7NL0HNvhON",
        "outputId": "a180a044-56cc-4a29-aa42-ce7f628f20ff"
      },
      "source": [
        "n = int(input(\"Enter any integer:\").strip())\n",
        "\n",
        "if ((n % 2 != 0) or ((n % 2 == 0) and (n in range(6,21)))):\n",
        "  print(\"Weird\")\n",
        "else:\n",
        "  print(\"Not Weird\")  "
      ],
      "execution_count": 6,
      "outputs": [
        {
          "output_type": "stream",
          "text": [
            "Enter any integer:10\n",
            "Weird\n"
          ],
          "name": "stdout"
        }
      ]
    },
    {
      "cell_type": "markdown",
      "metadata": {
        "id": "aUZ6Tw8cx1Di"
      },
      "source": [
        "3. Arithmetic Operators"
      ]
    },
    {
      "cell_type": "markdown",
      "metadata": {
        "id": "vXP6WzHlyBPd"
      },
      "source": [
        "A. The first line contains the sum of the two numbers."
      ]
    },
    {
      "cell_type": "code",
      "metadata": {
        "colab": {
          "base_uri": "https://localhost:8080/"
        },
        "id": "vDccNV4ux0Nr",
        "outputId": "7588aeae-505e-4548-c1de-1ca85ebca95a"
      },
      "source": [
        "a = int(input(\"Enter first integer:\").strip())\n",
        "b = int(input(\"Enter second integer:\").strip())\n",
        "\n",
        "print(\"Sum of two nos: %d\"%(a+b))"
      ],
      "execution_count": 7,
      "outputs": [
        {
          "output_type": "stream",
          "text": [
            "Enter first integer:10\n",
            "Enter second integer:20\n",
            "Sum of two nos: 30\n"
          ],
          "name": "stdout"
        }
      ]
    },
    {
      "cell_type": "markdown",
      "metadata": {
        "id": "FANuzsg-yba2"
      },
      "source": [
        "B. The second line contains the difference of the two numbers (first - second)."
      ]
    },
    {
      "cell_type": "code",
      "metadata": {
        "id": "4gplfze1ycnp"
      },
      "source": [
        "a = int(input(\"Enter first integer:\").strip())\n",
        "b = int(input(\"Enter second integer:\").strip())\n",
        "\n",
        "print(\"Difference of two nos: %d\"%(a-b))"
      ],
      "execution_count": null,
      "outputs": []
    },
    {
      "cell_type": "markdown",
      "metadata": {
        "id": "_BWxLYZ9yjXL"
      },
      "source": [
        "C. The third line contains the product of the two numbers."
      ]
    },
    {
      "cell_type": "code",
      "metadata": {
        "id": "oJFJbBuayl0o"
      },
      "source": [
        "a = int(input(\"Enter first integer:\").strip())\n",
        "b = int(input(\"Enter second integer:\").strip())\n",
        "\n",
        "print(\"Product of two nos: %d\"%(a*b))"
      ],
      "execution_count": null,
      "outputs": []
    },
    {
      "cell_type": "markdown",
      "metadata": {
        "id": "lQG_To-1zm2I"
      },
      "source": [
        "4. Python: Division"
      ]
    },
    {
      "cell_type": "code",
      "metadata": {
        "id": "Cbs10ac3zafb"
      },
      "source": [
        "a = int(input(\"Enter first integer:\").strip())\n",
        "b = int(input(\"Enter second integer:\").strip())\n",
        "\n",
        "print(\"Floor Division of two nos: %d\"%(a//b))\n",
        "print(\"Division of two nos: %d\"%(a//b))"
      ],
      "execution_count": null,
      "outputs": []
    },
    {
      "cell_type": "markdown",
      "metadata": {
        "id": "hauGzeBP0Au_"
      },
      "source": [
        "5. Write a function"
      ]
    },
    {
      "cell_type": "code",
      "metadata": {
        "colab": {
          "base_uri": "https://localhost:8080/"
        },
        "id": "qRiII7oS0Dtl",
        "outputId": "fd04206d-be2a-42ff-97b9-67cbed5f8908"
      },
      "source": [
        "def is_leap(year):\n",
        "    leap = False\n",
        "    \n",
        "    # Write your logic here    \n",
        "\n",
        "    if ((year %100 !=0 and year % 4 == 0) or (year % 400 == 0)):\n",
        "      leap = True\n",
        "\n",
        "    return leap\n",
        "\n",
        "\n",
        "if(is_leap(int(input(\"Enter any year:\").strip()))):  \n",
        "  print(\"Leap Year\")\n",
        "else:\n",
        "  print(\"Not a Leap Year\")   "
      ],
      "execution_count": 9,
      "outputs": [
        {
          "output_type": "stream",
          "text": [
            "Enter any year:2000\n",
            "Leap Year\n"
          ],
          "name": "stdout"
        }
      ]
    },
    {
      "cell_type": "markdown",
      "metadata": {
        "id": "XZYbl_-82giO"
      },
      "source": [
        "6. Print Function"
      ]
    },
    {
      "cell_type": "code",
      "metadata": {
        "colab": {
          "base_uri": "https://localhost:8080/"
        },
        "id": "HoiPCZ720mD2",
        "outputId": "62e184a0-5ace-4d53-c8ab-8af38d21764c"
      },
      "source": [
        "def print_sequence(n):\n",
        "  [ print(i,end=\"\") for i in range(1,n+1)]\n",
        "\n",
        "print_sequence(3)"
      ],
      "execution_count": 16,
      "outputs": [
        {
          "output_type": "stream",
          "text": [
            "123"
          ],
          "name": "stdout"
        }
      ]
    }
  ]
}